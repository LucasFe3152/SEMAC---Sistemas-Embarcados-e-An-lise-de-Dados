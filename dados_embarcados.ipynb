{
 "cells": [
  {
   "cell_type": "markdown",
   "metadata": {},
   "source": [
    "Este projeto, visa explicitar como a Ciência de Dados pode estar diretamente ligada ao uso de Sistemas Embarcados. Para isso foram utilizados os seguintes materiais para a realização do mesmo:\n",
    "    - Arduino UNO\n",
    "    - HW-038 Water Level Sensor Module\n",
    "    - Jumpers"
   ]
  },
  {
   "cell_type": "markdown",
   "metadata": {},
   "source": [
    "Existem alguns métodos para armazenamento de dados seraiis do Arduiíno, seja utilizando a memória EEPROM ou a memória FLASH do próprio Arduino, Cartão SD ou até mesmo utilizando um WiFi Module como o ESP32 por exemplo. Contudo, algumas dessas opções, requerem um maior nível de complexidade quantoa sua construção, já outras, possuem certas limitações, como o limite de armazenamento da memória Flash do Arduino por exemplo, que é algo essencial para se ter um Banco de Dados efetivo. "
   ]
  },
  {
   "cell_type": "markdown",
   "metadata": {},
   "source": [
    "Tendo em vista essas condições, optamos por buscar outros métodos para a realização do armazenamento desses dados, um método que não nos limitasse ao armazenamento de uma pequena faixa de dados e também nos permitisse manipulá-los de maneira mais favorável. Portanto, para tal, utilizamos a biblioteca pySerial, uma biblioteca que nos permite ler todos os dados do Monitor Serial, utilizando o Python. "
   ]
  },
  {
   "cell_type": "markdown",
   "metadata": {},
   "source": [
    "Somado a isto, utilizamos também a biblioteca Pandas, para criarmos um DataFrame a partir dos dados lidos através do Monitor Serial pela biblioteca pySerial e dessa maneira, sermos capazes de armazenar inúmeros dados dos testes práticos que foram realizados. A partir disso, demonstraremos a estrutura dos códigos utlizados para a aplicação desse projeto."
   ]
  },
  {
   "cell_type": "markdown",
   "metadata": {},
   "source": [
    "O primeiro passo a ser tomado, foi utilizar o Arduino IDE, para configurar o Arduino, estabelendo a Porta Serial e a taxa de transmissão da comunicação serial entre o Arduino e o computador, além de informar ao mesmo, ações tomar para realizar a leitura dos dados obtidos pelo Módulo Sensor de Nível. Primeiramente, definimos a Porta de Comunicação ao qual o Sensor estará conectado, nesse caso escolhemos a porta analógica A0 e definimos 'sensor' como a constante inteira que receberá os dados do Sensor."
   ]
  },
  {
   "cell_type": "code",
   "execution_count": null,
   "metadata": {},
   "outputs": [],
   "source": [
    "const int sensor = A0;"
   ]
  },
  {
   "cell_type": "markdown",
   "metadata": {},
   "source": [
    "Com a porta do sensor definida, vamos definir o void Setup() do Arduino. Utilizamos nesse caso uma taxa de transmissão serial de 9600."
   ]
  },
  {
   "cell_type": "code",
   "execution_count": null,
   "metadata": {},
   "outputs": [],
   "source": [
    "void setup(){\n",
    "\n",
    "\tSerial.begin(9600);\n",
    "\t\n",
    "}"
   ]
  },
  {
   "cell_type": "markdown",
   "metadata": {},
   "source": [
    "Após isso, definimos também o void loop(), solicitando o print da leitura analógica da constante 'sensor' a cada 1 segundo."
   ]
  },
  {
   "cell_type": "code",
   "execution_count": null,
   "metadata": {},
   "outputs": [],
   "source": [
    "void loop(){\n",
    " \n",
    "\tSerial.println(analogRead(sensor));\n",
    "  delay(1000);\n",
    "  \n",
    "}"
   ]
  },
  {
   "cell_type": "markdown",
   "metadata": {},
   "source": [
    "Partindo agora para o Python, devemos inicialemnte importar as bibliotecas que serão utilizadas no projeto, são elas, [pySerial], [Pandas], [time] (Futuramente será explicada a necessidade do uso dessa biblioteca)."
   ]
  },
  {
   "cell_type": "code",
   "execution_count": 1,
   "metadata": {},
   "outputs": [],
   "source": [
    "import serial as ard\n",
    "import pandas as pd\n",
    "import time"
   ]
  },
  {
   "cell_type": "markdown",
   "metadata": {},
   "source": [
    "Com as bibliotecas importadas, "
   ]
  }
 ],
 "metadata": {
  "kernelspec": {
   "display_name": "Python 3",
   "language": "python",
   "name": "python3"
  },
  "language_info": {
   "codemirror_mode": {
    "name": "ipython",
    "version": 3
   },
   "file_extension": ".py",
   "mimetype": "text/x-python",
   "name": "python",
   "nbconvert_exporter": "python",
   "pygments_lexer": "ipython3",
   "version": "3.12.2"
  }
 },
 "nbformat": 4,
 "nbformat_minor": 2
}
