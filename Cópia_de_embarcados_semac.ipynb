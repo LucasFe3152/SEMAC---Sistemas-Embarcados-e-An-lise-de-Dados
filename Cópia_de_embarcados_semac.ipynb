{
  "cells": [
    {
      "cell_type": "markdown",
      "metadata": {
        "id": "Qgdljyh15D8c"
      },
      "source": [
        "*texto em itálico*## Template Notebooks\n",
        "### <img src=\"https://github.com/sergio-UFS/sergio-UFS/assets/122404101/6fb58fd4-8f8f-4306-9aaa-ed6f31a87202\" alt=\"drawing\" width=\"30\"/> LADATA\n",
        "\n",
        "> **Projeto**:  Dos sensores à ciência de dados.\n",
        "\n",
        "\n",
        "#### **Objetivos**: Este projeto, visa explicitar como a Ciência de Dados pode estar diretamente ligada ao uso de Sistemas Embarcados. Para isso foram utilizados os seguintes materiais para a realização do mesmo:\n",
        "\n",
        "*   Arduino UNO\n",
        "*   HW-038 Water Level Sensor Module\n",
        "*   Jumpers\n",
        "\n",
        "\n",
        "\n",
        "\n"
      ]
    },
    {
      "cell_type": "markdown",
      "metadata": {
        "id": "qs5LWaMNAfOH"
      },
      "source": [
        "#### ✅ **Coletando os dados:**\n",
        "\n",
        "Para fazer a coleta dos dados do sensor, utilizaremos o seguinte código no arduino"
      ]
    },
    {
      "cell_type": "code",
      "source": [
        "#include \"dht.h\" //INCLUSÃO DE BIBLIOTECA\n",
        "\n",
        "#define pinoDHT11 A2//PINO ANALÓGICO UTILIZADO PELO DHT11\n",
        "\n",
        "dht DHT; //VARIÁVEL DO TIPO DHT\n",
        "\n",
        "void setup(){\n",
        "  Serial.begin(9600); //INICIALIZA A SERIAL\n",
        "  delay(2000); //INTERVALO DE 2 SEGUNDO ANTES DE INICIAR\n",
        "}\n",
        "\n",
        "void loop(){\n",
        "  DHT.read11(pinoDHT11); //LÊ AS INFORMAÇÕES DO SENSOR\n",
        "  Serial.print(DHT.humidity); //IMPRIME NA SERIAL O VALOR DE UMIDADE MEDIDO\n",
        "  Serial.print(DHT.temperature, 0); //IMPRIME NA SERIAL O VALOR DE UMIDADE MEDIDO E REMOVE A PARTE DECIMAL\n",
        "  delay(2000); //INTERVALO DE 2 SEGUNDOS * NÃO DIMINUIR ESSE VALOR\n",
        "}"
      ],
      "metadata": {
        "id": "zMcP9WWABJrL"
      },
      "execution_count": null,
      "outputs": []
    },
    {
      "cell_type": "markdown",
      "metadata": {
        "id": "6cRn4jvAHwdU"
      },
      "source": [
        "#### ⏏ **Recebendo os dados:**\n",
        "\n",
        "Após o código do arduino, é necessário um código para receber esses dados para o computador. Assim, será utilizado um código em python para receber os dados por comunicação serial"
      ]
    },
    {
      "cell_type": "markdown",
      "metadata": {
        "id": "xxjqS97z5D8d"
      },
      "source": [
        "#### 🔽 **Bibliotecas Utilizadas:**\n",
        "\n",
        "Para esse projeto, as principais bibliotecas necessárias foram: [PySerial](https://pythonhosted.org/pyserial/), [Pandas](https://pandas.pydata.org) e [Time](https://docs.python.org/3/library/time.html)"
      ]
    },
    {
      "cell_type": "code",
      "source": [
        "# Importação das bibliotecas utilizadas\n",
        "import serial as ard\n",
        "import pandas as pd\n",
        "import time"
      ],
      "metadata": {
        "id": "l3sT37rVIl4x"
      },
      "execution_count": null,
      "outputs": []
    },
    {
      "cell_type": "markdown",
      "metadata": {
        "id": "KxYUfAuEIsqk"
      },
      "source": [
        "#### ⛽ **Definindo funções:**\n",
        "\n",
        "Definição de funções que serão utilizadas para ler os dados e esperar mais adição de água no recipiente"
      ]
    },
    {
      "cell_type": "code",
      "source": [
        "# Função que lê o valor relativo ao sensor pelo Serial\n",
        "def read_data(lista):\n",
        "    global arduino\n",
        "    dados_teste1 = arduino.readline().decode('utf-8').strip()\n",
        "    print(f\"Dado recebido {dados_teste1}\")\n",
        "    lista.append(dados_teste1)\n",
        "\n",
        "# Função que espera a adição de mais água no recipiente\n",
        "def wait_water():\n",
        "    global contador\n",
        "    print(\"Adicionar água\")\n",
        "    time.sleep(50)\n",
        "    arduino.flushInput()\n",
        "    contador = 1"
      ],
      "metadata": {
        "id": "7h3xLk22JHpf"
      },
      "execution_count": null,
      "outputs": []
    },
    {
      "cell_type": "markdown",
      "metadata": {
        "id": "8F5_1_2-Jhq2"
      },
      "source": [
        "#### ▶ **Inicializando variáveis:**\n",
        "\n",
        "Inicializando as variáveis que serão utilizadas, sendo elas as listas que armazenarão os valores lidos pelo sensor, a variável de contador e de valor máximo para controlar o número de vezes que os dados serão lidos em cada lista"
      ]
    },
    {
      "cell_type": "code",
      "source": [
        "# Conecta ao serial pela porta utilizada pelo arduino\n",
        "arduino = ard.Serial('COM9', 9600) # Alterar para o relativo ao seu computador\n",
        "\n",
        "contador = 1 # contador para controlar o número de leituras\n",
        "MAX_VALUE = 50 # número máximo de leituras dos dados\n",
        "# listas que armazenarão os valores lidos, relativos para cada volume de água\n",
        "lista50ml = []\n",
        "lista100ml = []\n",
        "lista150ml = []"
      ],
      "metadata": {
        "id": "-NNZiJoNKlGS"
      },
      "execution_count": null,
      "outputs": []
    },
    {
      "cell_type": "markdown",
      "metadata": {
        "id": "gK1onOPtKsse"
      },
      "source": [
        "#### 🔄 **Recebendo os dados:**\n",
        "\n",
        "O código que receberá e armazenará os valores lidos pelo **sensor**"
      ]
    },
    {
      "cell_type": "code",
      "source": [
        "# Leitura de dados, com o volume de 50mL\n",
        "while contador <= MAX_VALUE:\n",
        "    read_data(lista50ml)\n",
        "    contador += 1\n",
        "\n",
        "# Espera a mudança do volume de água\n",
        "wait_water()\n",
        "\n",
        "# Leitura de dados, com o volume de 100mL\n",
        "while contador <= MAX_VALUE:\n",
        "    read_data(lista100ml)\n",
        "    contador += 1\n",
        "\n",
        "# Espera a mudança do volume de água\n",
        "wait_water()\n",
        "\n",
        "# Leitura de dados, com o volume de 150mL\n",
        "while contador <= MAX_VALUE:\n",
        "    read_data(lista150ml)\n",
        "    contador += 1"
      ],
      "metadata": {
        "id": "-aVoj6WrK5vO"
      },
      "execution_count": null,
      "outputs": []
    },
    {
      "cell_type": "markdown",
      "metadata": {
        "id": "UlcGnHWFLCx-"
      },
      "source": [
        "#### ❗ **Exportando os dados:**\n",
        "\n",
        "O código responsável por criar o dataframe a partir das listas com os dados e exportar este para um csv, possibilitando a futura análise"
      ]
    },
    {
      "cell_type": "code",
      "source": [
        "# Cria o dataframe utilizando as listas, para que possamos analisar esses dados\n",
        "df = pd.DataFrame({'Teste 50ml': lista50ml, 'Teste 100ml': lista100ml, 'Teste 150ml': lista150ml})\n",
        "# Exporta para csv o arquivo gerado com os dados\n",
        "df.to_csv('dados_arduino.csv', index=False)\n",
        "\n",
        "print(df.head())"
      ],
      "metadata": {
        "id": "hxIa9NhdLkTy"
      },
      "execution_count": null,
      "outputs": []
    },
    {
      "cell_type": "markdown",
      "metadata": {
        "id": "V8JaQTFIINRq"
      },
      "source": [
        "#### 🔽 **Bibliotecas Utilizadas:**\n",
        "\n",
        "Para esse projeto, as principais bibliotecas necessárias foram: [Pandas](https://pandas.pydata.org), [NumPy](https://numpy.org) e [MatplotLib](https://matplotlib.org)\n",
        "\n",
        "{sempre adicionar referências das bibliotecas externas para consulta de documentação}"
      ]
    },
    {
      "cell_type": "code",
      "execution_count": null,
      "metadata": {
        "id": "H5mK78Pg5D8e"
      },
      "outputs": [],
      "source": [
        "import pandas as pd\n",
        "import numpy as np\n",
        "import matplotlib.pyplot as plt"
      ]
    },
    {
      "cell_type": "markdown",
      "metadata": {
        "id": "dTT-0IL-5D8e"
      },
      "source": [
        "### 🛠 Tratamento\n",
        "\n",
        "Responsável pela parte da importação, limpeza e geração de objetos de análise."
      ]
    },
    {
      "cell_type": "code",
      "execution_count": null,
      "metadata": {
        "id": "CDWiwDq15D8f"
      },
      "outputs": [],
      "source": [
        "bd = pd.read_csv('data/dados.dados.json', sep=';')\n",
        "bd = bd.dropna()"
      ]
    },
    {
      "cell_type": "markdown",
      "metadata": {
        "id": "8bX4gpH35D8f"
      },
      "source": [
        "### 🤔 Análise e Metodologia\n",
        "\n",
        "Análise dos dados limpos para a análise com o objetivo de {}\n",
        "\n",
        "A **Metodologia** é baseada em: gerar gráficos para visualizar o comportamento de .... , ou , criar um modelo que possibilite prever ....."
      ]
    },
    {
      "cell_type": "code",
      "execution_count": null,
      "metadata": {
        "id": "5G5-HlHY5D8f"
      },
      "outputs": [],
      "source": [
        "def plotar_grafico(bd):\n",
        "    plt = bd.plot(kind='scatter', x='x', y='y')\n",
        "    plt.set_xlabel('x')\n",
        "    plt.set_ylabel('y')\n",
        "    return plt"
      ]
    },
    {
      "cell_type": "markdown",
      "metadata": {
        "id": "wMJP0EbD5D8g"
      },
      "source": [
        "### 📈 Resultados\n",
        "\n",
        "Os resultados obtidos, em formato de gráficos, tabelas, ou o que seja esperado, mostrando o que foi desenvolvido no trecho de Análise\n",
        "\n",
        "{Para a organização do produto final, é recomendado criar funções e apenas chamá-las na parte de resultados, para facilitar a visualização}"
      ]
    },
    {
      "cell_type": "code",
      "execution_count": null,
      "metadata": {
        "id": "VM90CST65D8g"
      },
      "outputs": [],
      "source": [
        "# Plot do gráfico importante\n",
        "plotar_grafico(bd)"
      ]
    },
    {
      "cell_type": "markdown",
      "metadata": {
        "id": "XIGJiri_5D8g"
      },
      "source": [
        "### 💡 Conclusões\n",
        "\n",
        "A partir da pesquisa e do desenvolvimento do código acima, o objetivo de ... (foi alcançado / não foi alcançado / alcançado em partes) {Desenvolver parágrafo}"
      ]
    },
    {
      "cell_type": "markdown",
      "metadata": {
        "id": "hD0nEUeA5D8h"
      },
      "source": [
        "### 📖 Referências:\n",
        "\n",
        "\n",
        "\n",
        "### Equipe:\n",
        "\n",
        "1. [Sérgio Manhães](https://github.com/sergio-UFS)\n",
        "2. [Sérgio Manhães](https://github.com/sergio-UFS)\n",
        "3. [Sérgio Manhães](https://github.com/sergio-UFS)\n",
        "4. [Sérgio Manhães](https://github.com/sergio-UFS)"
      ]
    }
  ],
  "metadata": {
    "language_info": {
      "name": "python"
    },
    "colab": {
      "provenance": []
    }
  },
  "nbformat": 4,
  "nbformat_minor": 0
}